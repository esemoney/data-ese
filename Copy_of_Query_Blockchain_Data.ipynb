{
  "nbformat": 4,
  "nbformat_minor": 0,
  "metadata": {
    "colab": {
      "provenance": [],
      "include_colab_link": true
    },
    "kernelspec": {
      "name": "python3",
      "display_name": "Python 3"
    },
    "language_info": {
      "name": "python"
    }
  },
  "cells": [
    {
      "cell_type": "markdown",
      "metadata": {
        "id": "view-in-github",
        "colab_type": "text"
      },
      "source": [
        "<a href=\"https://colab.research.google.com/github/esemoney/data-ese/blob/main/Copy_of_Query_Blockchain_Data.ipynb\" target=\"_parent\"><img src=\"https://colab.research.google.com/assets/colab-badge.svg\" alt=\"Open In Colab\"/></a>"
      ]
    },
    {
      "cell_type": "markdown",
      "source": [
        "# Query Blockchain Data\n",
        "**Purpose:** Learn how to easily query raw blockchain data via APIs from leading blockchain analytics platforms.\n",
        "1. [Flipside](https://flipsidecrypto.xyz/)\n",
        "2. [Footprint](https://www.footprint.network/)\n",
        "3. [Dune](https://dune.com/home)\n",
        "4. [Luabase](https://luabase.com/)\n",
        "5. [Google BigQuery](https://console.cloud.google.com/marketplace/browse)\n",
        "\n",
        "Note: All examples pull raw data for 10 random transactions from Ethereum."
      ],
      "metadata": {
        "id": "o4_lXvv9uEu2"
      }
    },
    {
      "cell_type": "code",
      "source": [
        "import requests\n",
        "import json\n",
        "import pandas as pd\n",
        "import os"
      ],
      "metadata": {
        "id": "trbJij00uHOo"
      },
      "execution_count": null,
      "outputs": []
    },
    {
      "cell_type": "markdown",
      "source": [
        "## 1. [Flipside](https://flipsidecrypto.xyz/)\n",
        "### Method #1 - API\n",
        "**Steps:**\n",
        "1. Create a free Flipside account.\n",
        "2. Create a query.\n",
        "3. Copy & paste the API link for the query (see \"API\" button in top right part of editor)."
      ],
      "metadata": {
        "id": "Xs1yPS8SuIL7"
      }
    },
    {
      "cell_type": "code",
      "source": [
        "# Example Query: https://app.flipsidecrypto.com/velocity/queries/350df4c5-db0e-4c8e-ac0d-1b845ecbe7a0\n",
        "query_api_url = \"https://node-api.flipsidecrypto.com/api/v2/queries/350df4c5-db0e-4c8e-ac0d-1b845ecbe7a0/data/latest\"\n",
        "results_json = requests.get(query_api_url).json()\n",
        "results_df = pd.DataFrame.from_dict(results_json)\n",
        "results_df.head()"
      ],
      "metadata": {
        "id": "5u5ATxUHuMK0"
      },
      "execution_count": null,
      "outputs": []
    },
    {
      "cell_type": "markdown",
      "source": [
        "### Method #2 - SDK\n",
        "\n",
        "**Steps**:\n",
        "1. Create a free Flipside account.\n",
        "2. Generate a SDK NFT to get API key [here](https://sdk.flipsidecrypto.xyz/shroomdk).\n",
        "3. `pip install shroomdk`\n",
        "\n",
        "\n",
        "**Supporting Links:**\n",
        "*   https://docs.flipsidecrypto.com/shroomdk-sdk/python\n",
        "*   https://docs.flipsidecrypto.com/shroomdk-sdk/examples"
      ],
      "metadata": {
        "id": "bMmpLNstuO9Q"
      }
    },
    {
      "cell_type": "code",
      "source": [
        "pip install shroomdk"
      ],
      "metadata": {
        "id": "7sgShWwbuQf7"
      },
      "execution_count": null,
      "outputs": []
    },
    {
      "cell_type": "code",
      "source": [
        "from shroomdk import ShroomDK\n",
        "\n",
        "def query_flipside_sdk(query_string, sdk_key):\n",
        "    # Created by https://twitter.com/0xdatawolf\n",
        "    sdk = ShroomDK(sdk_key)\n",
        "    \n",
        "    # Query results page by page and saves the results in a list\n",
        "    # If nothing is returned then just stop the loop and start adding the data to the dataframe\n",
        "    result_list = []\n",
        "    for i in range(1,11): # max is a million rows @ 100k per page\n",
        "        data=sdk.query(query_string,page_size=100000,page_number=i)\n",
        "        if data.run_stats.record_count == 0:  \n",
        "            break\n",
        "        else:\n",
        "            result_list.append(data.records)\n",
        "        \n",
        "    # Loops through the returned results and adds into a pandas dataframe\n",
        "    result_df=pd.DataFrame()\n",
        "    for idx, each_list in enumerate(result_list):\n",
        "        if idx == 0:\n",
        "            result_df=pd.json_normalize(each_list)\n",
        "        else:\n",
        "            result_df=pd.concat([result_df, pd.json_normalize(each_list)])\n",
        "\n",
        "    return result_df\n",
        "\n",
        "# Creds/keys\n",
        "flipside_sdk_key = \"\"\n",
        "\n",
        "# Query\n",
        "query_string = \"\"\"\n",
        "  select *\n",
        "  from ethereum.core.fact_transactions\n",
        "  limit 10\n",
        "\"\"\"\n",
        "\n",
        "results_df = query_flipside_sdk(query_string, flipside_sdk_key)\n",
        "results_df.head()"
      ],
      "metadata": {
        "id": "NfxBCuuSuUZl"
      },
      "execution_count": null,
      "outputs": []
    },
    {
      "cell_type": "markdown",
      "source": [
        "## 2. [Footprint](https://www.footprint.network/)\n",
        "\n",
        "**Steps:**\n",
        "1. Create a free Footprint account.\n",
        "2. Generate API Key [here](https://www.footprint.network/account/developer).\n",
        "\n",
        "**Supporting Links:**\n",
        "* https://docs.footprint.network/reference/introduction"
      ],
      "metadata": {
        "id": "ljjo4eGCuW_0"
      }
    },
    {
      "cell_type": "code",
      "source": [
        "# Creds/keys\n",
        "footprint_api_key = \"\"\n",
        "\n",
        "# Query\n",
        "query_string = \"\"\"\n",
        "  select * \n",
        "  from ethereum_transactions\n",
        "  limit 10\n",
        "\"\"\"\n",
        "\n",
        "url = \"https://api.footprint.network/api/v1/native\"\n",
        "\n",
        "payload = {\"query\": query_string}\n",
        "headers = {\n",
        "    \"accept\": \"application/json\",\n",
        "    \"API-KEY\": footprint_api_key,\n",
        "    \"content-type\": \"application/json\"\n",
        "}\n",
        "\n",
        "response = requests.post(url, json=payload, headers=headers)\n",
        "results_json = json.loads(response.text)[\"data\"]\n",
        "results_df = pd.DataFrame.from_dict(results_json)\n",
        "results_df.head()"
      ],
      "metadata": {
        "id": "nJSJbJuMuZzL"
      },
      "execution_count": null,
      "outputs": []
    },
    {
      "cell_type": "markdown",
      "source": [
        "## 3. [Dune](https://dune.com/home)\n",
        "\n",
        "### Method #1 - Using a third party: https://github.com/itzmestar/duneanalytics\n",
        "\n",
        "**Steps:**\n",
        "1. Create a free Dune account.\n",
        "2. Create a query.\n",
        "3. `pip install duneanalytics`\n",
        "\n",
        "**Supporting Links:**\n",
        "* Official Dune API in private beta. Coming soon... \n",
        " * https://dune.com/docs/api/quick-start/api-py/\n",
        "* Other Third party python apis:\n",
        " * https://pypi.org/project/dune-analytics/\n",
        " * https://pypi.org/project/duneapi/\n",
        " * https://pypi.org/project/dunebuggy/"
      ],
      "metadata": {
        "id": "qj96tJYcubxI"
      }
    },
    {
      "cell_type": "code",
      "source": [
        "pip install duneanalytics"
      ],
      "metadata": {
        "id": "liuMUIAEudNT"
      },
      "execution_count": null,
      "outputs": []
    },
    {
      "cell_type": "code",
      "source": [
        "from duneanalytics import DuneAnalytics\n",
        "\n",
        "# Example Query: https://dune.com/queries/1438636 \n",
        "\n",
        "# Creds/keys\n",
        "dune_username = ''\n",
        "dune_password = ''\n",
        "\n",
        "dune = DuneAnalytics(dune_username, dune_password)\n",
        "dune.login()\n",
        "dune.fetch_auth_token()\n",
        "result_id = dune.query_result_id(query_id=1438636)\n",
        "data = dune.query_result(result_id)\n",
        "\n",
        "result_df=pd.DataFrame()\n",
        "for i in data['data']['get_result_by_result_id']:\n",
        "  result_df = pd.concat([result_df, pd.json_normalize(i['data'])])\n",
        "\n",
        "result_df.head()"
      ],
      "metadata": {
        "id": "G17fQGbpud41"
      },
      "execution_count": null,
      "outputs": []
    },
    {
      "cell_type": "markdown",
      "source": [
        "## 4. [Luabase](https://luabase.com/)\n",
        "\n",
        "**Steps**:\n",
        "1. Create a free Luabase account.\n",
        "2. Create a new notebook & create a query.\n",
        "3. Click \"View API\", which auto generates Python code.\n",
        "4. Generate API key.\n",
        "\n",
        "**Supporting Links:**\n",
        "* https://luabase.notion.site/API-b86c02f5fc244041bcd365c02628fa72#f570519b70fd4457b330a34c0d5ba45c"
      ],
      "metadata": {
        "id": "M7gSceYbujOw"
      }
    },
    {
      "cell_type": "code",
      "source": [
        "# Option A: Pre Made Query\n",
        "\n",
        "# Example Notebook w/ Query: https://luabase.com/notebook/184d77c4f73b41839224ae5023046cc6\n",
        "\n",
        "# Creds/keys\n",
        "luabase_api_key = \"\"\n",
        "\n",
        "url = \"https://q.luabase.com/run\"\n",
        "payload = {\n",
        "    \"block\": {\"data_uuid\": \"184d77c4f73b41839224ae5023046cc6\"},\n",
        "    \"api_key\": luabase_api_key\n",
        "}\n",
        "headers = {\"content-type\": \"application/json\"}\n",
        "response = requests.request(\"POST\", url, json=payload, headers=headers)\n",
        "data = response.json()[\"data\"]\n",
        "results_df = pd.json_normalize(data)\n",
        "results_df.head()"
      ],
      "metadata": {
        "id": "JdES4T8Huown"
      },
      "execution_count": null,
      "outputs": []
    },
    {
      "cell_type": "code",
      "source": [
        "# Option B: Dynamic Query\n",
        "\n",
        "luabase_api_key = \"\"\n",
        "\n",
        "url = \"https://q.luabase.com/run\"\n",
        "\n",
        "sql = '''\n",
        "select * \n",
        "from ethereum.transactions\n",
        "limit 10\n",
        "'''\n",
        "\n",
        "payload = {\n",
        "  \"block\": {\n",
        "    \"details\": {\n",
        "      \"sql\": sql,\n",
        "    }\n",
        "  },\n",
        "\t  \"api_key\": luabase_api_key,\n",
        "}\n",
        "headers = {\"content-type\": \"application/json\"}\n",
        "response = requests.request(\"POST\", url, json=payload, headers=headers)\n",
        "data = response.json()[\"data\"]\n",
        "results_df = pd.json_normalize(data)\n",
        "results_df.head()"
      ],
      "metadata": {
        "id": "yDsIByrBMxa6"
      },
      "execution_count": null,
      "outputs": []
    },
    {
      "cell_type": "markdown",
      "source": [
        "## 5. [Google BigQuery](https://console.cloud.google.com/marketplace/browse)\n",
        "\n",
        "**Steps:**\n",
        "1. Create a Google Cloud Platform (GCP) account.\n",
        "2. Use the [Cloud Resource Manager](https://console.cloud.google.com/cloud-resource-manager) to create a Cloud Platform project.\n",
        "3. [Enable billing](https://support.google.com/cloud/answer/6293499#enable-billing) for the project.\n",
        "4. [Enable BigQuery](https://console.cloud.google.com/flows/enableapi?apiid=bigquery) APIs for the project.\n",
        "\n",
        "**Supporting Links:**\n",
        "* https://cloud.google.com/blog/products/data-analytics/introducing-six-new-cryptocurrencies-in-bigquery-public-datasets-and-how-to-analyze-them"
      ],
      "metadata": {
        "id": "RCoYnz2quqxZ"
      }
    },
    {
      "cell_type": "code",
      "source": [
        "from google.colab import auth\n",
        "from google.cloud import bigquery\n",
        "auth.authenticate_user()\n",
        "\n",
        "# Creds/keys\n",
        "google_project_id = \"\"\n",
        "\n",
        "# Query\n",
        "query_string = \"\"\"\n",
        "  SELECT * \n",
        "  FROM `bigquery-public-data.crypto_ethereum.transactions` \n",
        "  WHERE DATE(block_timestamp) = \"2022-10-21\" \n",
        "  LIMIT 10\n",
        "\"\"\"\n",
        "\n",
        "client = bigquery.Client(project=google_project_id)\n",
        "results_df = client.query(query_string).to_dataframe()\n",
        "results_df.head()"
      ],
      "metadata": {
        "id": "JU4H403TuuEe"
      },
      "execution_count": null,
      "outputs": []
    }
  ]
}